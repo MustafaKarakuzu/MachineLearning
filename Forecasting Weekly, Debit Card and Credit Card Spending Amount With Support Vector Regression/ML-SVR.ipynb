{
 "cells": [
  {
   "cell_type": "markdown",
   "id": "324cad87-d42b-40ff-88a0-a2fb157b6cfb",
   "metadata": {},
   "source": [
    "# Modelling"
   ]
  },
  {
   "cell_type": "code",
   "execution_count": 1,
   "id": "41aed091",
   "metadata": {
    "tags": []
   },
   "outputs": [],
   "source": [
    "import numpy as np\n",
    "import matplotlib.pyplot as plt\n",
    "import seaborn as sns\n",
    "import pandas as pd\n",
    "\n",
    "from sklearn import svm\n",
    "from sklearn.model_selection import cross_val_score\n",
    "from sklearn.model_selection import GridSearchCV\n",
    "from sklearn import metrics as met\n",
    "from sklearn.metrics import mean_squared_error, mean_absolute_error\n",
    "\n",
    "import statsmodels.api as sm\n",
    "\n",
    "import warnings\n",
    "warnings.filterwarnings('ignore')"
   ]
  },
  {
   "cell_type": "code",
   "execution_count": 2,
   "id": "a73c2775",
   "metadata": {
    "tags": []
   },
   "outputs": [],
   "source": [
    "data0=pd.read_excel('raw.xlsx')"
   ]
  },
  {
   "cell_type": "code",
   "execution_count": 3,
   "id": "ae3a4d72",
   "metadata": {
    "tags": []
   },
   "outputs": [
    {
     "name": "stdout",
     "output_type": "stream",
     "text": [
      "                KKH\n",
      "Tarih              \n",
      "5.1.2018  -0.739984\n",
      "12.1.2018 -0.748211\n",
      "19.1.2018 -0.731254\n",
      "26.1.2018 -0.721848\n",
      "2.2.2018  -0.667951\n",
      "...             ...\n",
      "25.8.2023  3.092377\n",
      "1.9.2023   3.443602\n",
      "8.9.2023   3.128496\n",
      "15.9.2023  3.240233\n",
      "22.9.2023  3.195168\n",
      "\n",
      "[299 rows x 1 columns]\n"
     ]
    }
   ],
   "source": [
    "data = data0.copy()\n",
    "data.set_index('Tarih', inplace=True)\n",
    "print(data)"
   ]
  },
  {
   "cell_type": "code",
   "execution_count": 4,
   "id": "b61aff52-3e10-426f-9411-3d0112e501c8",
   "metadata": {
    "tags": []
   },
   "outputs": [],
   "source": [
    "x1=data['KKH']"
   ]
  },
  {
   "cell_type": "code",
   "execution_count": 5,
   "id": "a9c35664-1975-4717-a10b-e30d966a6b29",
   "metadata": {
    "tags": []
   },
   "outputs": [
    {
     "data": {
      "text/plain": [
       "[<matplotlib.lines.Line2D at 0x274d2528a50>]"
      ]
     },
     "execution_count": 5,
     "metadata": {},
     "output_type": "execute_result"
    },
    {
     "data": {
      "image/png": "[encoded data removed]",
      "text/plain": [
       "<Figure size 640x480 with 1 Axes>"
      ]
     },
     "metadata": {},
     "output_type": "display_data"
    }
   ],
   "source": [
    "plt.plot(x1)"
   ]
  },
  {
   "cell_type": "markdown",
   "id": "d3a6ef25-3a74-425c-a64e-5bbb20204bf1",
   "metadata": {},
   "source": [
    "## Taking Lags of Series"
   ]
  },
  {
   "cell_type": "code",
   "execution_count": 6,
   "id": "a810a388",
   "metadata": {
    "tags": []
   },
   "outputs": [
    {
     "name": "stdout",
     "output_type": "stream",
     "text": [
      "Data Shape: (299,)\n",
      "Shape of Lag-1. First column is level and others are lags: (298, 2)\n",
      "Shape of Lag-2. First column is level and others are lags: (297, 3)\n",
      "Shape of Lag-3. First column is level and others are lags: (296, 4)\n",
      "Shape of Lag-4. First column is level and others are lags: (295, 5)\n",
      "Shape of Lag-5. First column is level and others are lags: (294, 6)\n",
      "Shape of Lag-6. First column is level and others are lags: (293, 7)\n"
     ]
    }
   ],
   "source": [
    "print(f'Data Shape: {x1.shape}')\n",
    "Y_X_1=sm.tsa.tsatools.add_lag(x1, col=None, lags=1, drop=False, insert=True)\n",
    "print(f'Shape of Lag-1. First column is level and others are lags: {Y_X_1.shape}')\n",
    "Y_X_2=sm.tsa.tsatools.add_lag(x1, col=None, lags=2, drop=False, insert=True)\n",
    "print(f'Shape of Lag-2. First column is level and others are lags: {Y_X_2.shape}')\n",
    "Y_X_3=sm.tsa.tsatools.add_lag(x1, col=None, lags=3, drop=False, insert=True)\n",
    "print(f'Shape of Lag-3. First column is level and others are lags: {Y_X_3.shape}')\n",
    "Y_X_4=sm.tsa.tsatools.add_lag(x1, col=None, lags=4, drop=False, insert=True)\n",
    "print(f'Shape of Lag-4. First column is level and others are lags: {Y_X_4.shape}')\n",
    "Y_X_5=sm.tsa.tsatools.add_lag(x1, col=None, lags=5, drop=False, insert=True)\n",
    "print(f'Shape of Lag-5. First column is level and others are lags: {Y_X_5.shape}')\n",
    "Y_X_6=sm.tsa.tsatools.add_lag(x1, col=None, lags=6, drop=False, insert=True)\n",
    "print(f'Shape of Lag-6. First column is level and others are lags: {Y_X_6.shape}')"
   ]
  },
  {
   "cell_type": "markdown",
   "id": "de903703",
   "metadata": {},
   "source": [
    "## Support Vector Machine( Support Vector Regression)"
   ]
  },
  {
   "cell_type": "markdown",
   "id": "311ec824-7175-4271-ae48-df8352e82ce0",
   "metadata": {},
   "source": [
    "### Selecting Test Size"
   ]
  },
  {
   "cell_type": "code",
   "execution_count": 7,
   "id": "cbda1f34-bcc5-4f7f-856b-86bfa3eba1b4",
   "metadata": {
    "tags": []
   },
   "outputs": [
    {
     "name": "stdout",
     "output_type": "stream",
     "text": [
      "Test Size: 60\n"
     ]
    }
   ],
   "source": [
    "test_size=np.int_(np.round(len(x1)*0.2))\n",
    "print(f'Test Size: {test_size}')"
   ]
  },
  {
   "cell_type": "code",
   "execution_count": 8,
   "id": "25f1a271",
   "metadata": {
    "tags": []
   },
   "outputs": [],
   "source": [
    "def make_rbf(Inputs,test_size):\n",
    "    print(f'input shape {Inputs.shape}')\n",
    "    parameters={'C': [0.001,0.05,0.1, 5,50, 100, 500],\n",
    "           'gamma':[0.0001,0.001,0.005,0.01,0.01,1 ],\n",
    "           'epsilon':[0.001,0.005,0.01,0.05,0.1,1]}\n",
    "    svr_rbf = svm.SVR(kernel=\"rbf\")\n",
    "    rbf = GridSearchCV(svr_rbf, parameters)\n",
    "    X_train=Inputs[:-test_size,1:]\n",
    "    print(f'X_train shape {X_train.shape}')\n",
    "    Y_train=Inputs[:-test_size,0:1]\n",
    "    print(f'Y_train shape {Y_train.shape}')\n",
    "    rbf.fit(X_train,Y_train) # rbf.fit(X,y)\n",
    "    X_test=Inputs[-test_size:,1:]\n",
    "    print(f'X_test Shape: {X_test.shape}')\n",
    "    Y_test=Inputs[-test_size:,0:1]\n",
    "    print(f'Y_test Shape: {Y_test.shape}')\n",
    "    SVM_forecast=rbf.predict(X_test)\n",
    "    print(f'Predicted Array Shape: {SVM_forecast.shape}')\n",
    "    SVM_forecast=SVM_forecast.reshape(len(SVM_forecast),1)\n",
    "    print(\"best parameters: \",rbf.best_params_)\n",
    "    print(\"Test MAE :\",mean_absolute_error(Y_test, SVM_forecast))\n",
    "    print(\"Test MSE : \", mean_squared_error(Y_test,SVM_forecast))\n",
    "    print(\"Test RMSE : \", np.sqrt(mean_squared_error(Y_test,SVM_forecast)))\n",
    "    #print(\"Test R^2 : \", r2_score(Y_test,SVM_forecast))\n",
    "    #print(f'Adjusted R^2 (Train): {1-((1-rbf.best_score_)*(len(Y_train)-1)/(len(Y_train)-Y_train.shape[1]-1))}')"
   ]
  },
  {
   "cell_type": "code",
   "execution_count": 9,
   "id": "c9d57128",
   "metadata": {
    "tags": []
   },
   "outputs": [
    {
     "name": "stdout",
     "output_type": "stream",
     "text": [
      "input shape (298, 2)\n",
      "X_train shape (238, 1)\n",
      "Y_train shape (238, 1)\n",
      "X_test Shape: (60, 1)\n",
      "Y_test Shape: (60, 1)\n",
      "Predicted Array Shape: (60,)\n",
      "best parameters:  {'C': 500, 'epsilon': 0.001, 'gamma': 0.01}\n",
      "Test MAE : 0.20496845951272816\n",
      "Test MSE :  0.09127847208350463\n",
      "Test RMSE :  0.30212327299217556\n"
     ]
    }
   ],
   "source": [
    "make_rbf(Y_X_1,test_size)"
   ]
  },
  {
   "cell_type": "code",
   "execution_count": 10,
   "id": "314a7279",
   "metadata": {
    "tags": []
   },
   "outputs": [
    {
     "name": "stdout",
     "output_type": "stream",
     "text": [
      "input shape (297, 3)\n",
      "X_train shape (237, 2)\n",
      "Y_train shape (237, 1)\n",
      "X_test Shape: (60, 2)\n",
      "Y_test Shape: (60, 1)\n",
      "Predicted Array Shape: (60,)\n",
      "best parameters:  {'C': 500, 'epsilon': 0.05, 'gamma': 0.01}\n",
      "Test MAE : 0.14713000198949644\n",
      "Test MSE :  0.04181132146691086\n",
      "Test RMSE :  0.20447816868045074\n"
     ]
    }
   ],
   "source": [
    "make_rbf(Y_X_2,test_size)"
   ]
  },
  {
   "cell_type": "code",
   "execution_count": 11,
   "id": "abe70667",
   "metadata": {
    "tags": []
   },
   "outputs": [
    {
     "name": "stdout",
     "output_type": "stream",
     "text": [
      "input shape (296, 4)\n",
      "X_train shape (236, 3)\n",
      "Y_train shape (236, 1)\n",
      "X_test Shape: (60, 3)\n",
      "Y_test Shape: (60, 1)\n",
      "Predicted Array Shape: (60,)\n",
      "best parameters:  {'C': 100, 'epsilon': 0.05, 'gamma': 0.01}\n",
      "Test MAE : 0.16599165661640208\n",
      "Test MSE :  0.04696540143317345\n",
      "Test RMSE :  0.21671502355206815\n"
     ]
    }
   ],
   "source": [
    "make_rbf(Y_X_3,test_size)"
   ]
  },
  {
   "cell_type": "code",
   "execution_count": 12,
   "id": "22abcf49",
   "metadata": {
    "tags": []
   },
   "outputs": [
    {
     "name": "stdout",
     "output_type": "stream",
     "text": [
      "input shape (295, 5)\n",
      "X_train shape (235, 4)\n",
      "Y_train shape (235, 1)\n",
      "X_test Shape: (60, 4)\n",
      "Y_test Shape: (60, 1)\n",
      "Predicted Array Shape: (60,)\n",
      "best parameters:  {'C': 50, 'epsilon': 0.001, 'gamma': 0.001}\n",
      "Test MAE : 0.14070650385957265\n",
      "Test MSE :  0.03433261828461684\n",
      "Test RMSE :  0.18529063193970935\n"
     ]
    }
   ],
   "source": [
    "make_rbf(Y_X_4,test_size)"
   ]
  },
  {
   "cell_type": "code",
   "execution_count": 13,
   "id": "104c5e58",
   "metadata": {
    "tags": []
   },
   "outputs": [
    {
     "name": "stdout",
     "output_type": "stream",
     "text": [
      "input shape (294, 6)\n",
      "X_train shape (234, 5)\n",
      "Y_train shape (234, 1)\n",
      "X_test Shape: (60, 5)\n",
      "Y_test Shape: (60, 1)\n",
      "Predicted Array Shape: (60,)\n",
      "best parameters:  {'C': 50, 'epsilon': 0.05, 'gamma': 0.01}\n",
      "Test MAE : 0.25969090474977125\n",
      "Test MSE :  0.12659004558051412\n",
      "Test RMSE :  0.3557949487844285\n"
     ]
    }
   ],
   "source": [
    "make_rbf(Y_X_5,test_size)"
   ]
  },
  {
   "cell_type": "code",
   "execution_count": 14,
   "id": "ec9a7eed",
   "metadata": {
    "tags": []
   },
   "outputs": [
    {
     "name": "stdout",
     "output_type": "stream",
     "text": [
      "input shape (293, 7)\n",
      "X_train shape (233, 6)\n",
      "Y_train shape (233, 1)\n",
      "X_test Shape: (60, 6)\n",
      "Y_test Shape: (60, 1)\n",
      "Predicted Array Shape: (60,)\n",
      "best parameters:  {'C': 50, 'epsilon': 0.05, 'gamma': 0.01}\n",
      "Test MAE : 0.2930705817282863\n",
      "Test MSE :  0.17340243162316754\n",
      "Test RMSE :  0.4164161759864373\n"
     ]
    }
   ],
   "source": [
    "make_rbf(Y_X_6,test_size)"
   ]
  },
  {
   "cell_type": "code",
   "execution_count": 15,
   "id": "25abe3c3-28fe-4d65-85c2-8c61c19f120d",
   "metadata": {
    "tags": []
   },
   "outputs": [
    {
     "name": "stdout",
     "output_type": "stream",
     "text": [
      "X_test Shape: (295, 1)\n",
      "X_test Shape: (295, 4)\n",
      "X_test Shape: (60, 4)\n",
      "Y_test Shape: (60, 1)\n",
      "train data shape: (235, 4)\n",
      "train1 data shape: (235, 1)\n",
      "(295, 5)\n",
      "Predicted Array Shape: (60, 1)\n",
      "Test RMSE :  0.18529063193970935\n",
      "Test MAE of SVR : 0.14070650385957265\n",
      "Test MSE of SVR :  0.03433261828461684\n",
      "Test RMSE of SVR :  0.18529063193970935\n",
      "predicted data shape: (235, 1)\n",
      "Train MAE of SVR : 0.04303944896062733\n",
      "Train MSE of SVR :  0.005243459205746151\n",
      "Train RMSE of SVR :  0.07241173389545476\n",
      "(295, 1)\n",
      "(295,)\n"
     ]
    },
    {
     "data": {
      "text/plain": [
       "<matplotlib.legend.Legend at 0x274d328bc10>"
      ]
     },
     "execution_count": 15,
     "metadata": {},
     "output_type": "execute_result"
    },
    {
     "data": {
      "image/png": "[encoded data removed]",
      "text/plain": [
       "<Figure size 1500x800 with 1 Axes>"
      ]
     },
     "metadata": {},
     "output_type": "display_data"
    }
   ],
   "source": [
    "full_true=Y_X_4[:,0:1]\n",
    "print(f'X_test Shape: {full_true.shape}')\n",
    "full_true_test=Y_X_4[:,1:]\n",
    "print(f'X_test Shape: {full_true_test.shape}')\n",
    "X_test=Y_X_4[-test_size:,1:]\n",
    "print(f'X_test Shape: {X_test.shape}')\n",
    "Y_test=Y_X_4[-test_size:,0:1]\n",
    "print(f'Y_test Shape: {Y_test.shape}')\n",
    "X_train=Y_X_4[:-test_size,1:]\n",
    "print(f'train data shape: {X_train.shape}')\n",
    "Y_train=Y_X_4[:-test_size,0:1]\n",
    "print(f'train1 data shape: {Y_train.shape}')\n",
    "print(Y_X_4.shape)\n",
    "svr_rbf = svm.SVR(kernel=\"rbf\", C=50, gamma=0.001, epsilon=0.001)\n",
    "svr_rbf.fit(X_train,Y_train) # rbf.fit(X,y)\n",
    "SVM_forecast=svr_rbf.predict(X_test)\n",
    "SVM_forecast=SVM_forecast.reshape(len(SVM_forecast),1)\n",
    "print(f'Predicted Array Shape: {SVM_forecast.shape}')\n",
    "print(\"Test RMSE : \", np.sqrt(mean_squared_error(Y_test,SVM_forecast)))\n",
    "print(\"Test MAE of SVR :\",mean_absolute_error(Y_test, SVM_forecast))\n",
    "print(\"Test MSE of SVR : \", mean_squared_error(Y_test, SVM_forecast))\n",
    "print(\"Test RMSE of SVR : \", np.sqrt(mean_squared_error(Y_test, SVM_forecast)))\n",
    "train_forecast=svr_rbf.predict(X_train)\n",
    "train_forecast=train_forecast.reshape(len(train_forecast),1)\n",
    "print(f'predicted data shape: {train_forecast.shape}')\n",
    "print(\"Train MAE of SVR :\",mean_absolute_error(Y_train, train_forecast))\n",
    "print(\"Train MSE of SVR : \", mean_squared_error(Y_train, train_forecast))\n",
    "print(\"Train RMSE of SVR : \", np.sqrt(mean_squared_error(Y_train, train_forecast)))\n",
    "full_rbf_forecast=svr_rbf.predict(full_true_test)\n",
    "print(full_true.shape)\n",
    "print(full_rbf_forecast.shape)\n",
    "fig,ax=plt.subplots(figsize=(15,8))\n",
    "plt.plot(full_true, label='true_data_full',linestyle=':',color='lightgreen', marker='o')\n",
    "plt.plot(full_rbf_forecast, label='predicted_data_full', color='blue')\n",
    "plt.legend()"
   ]
  },
  {
   "cell_type": "markdown",
   "id": "3e6f7268-7038-4dee-8a1f-1ac226a06f46",
   "metadata": {},
   "source": [
    "## Forecasting"
   ]
  },
  {
   "cell_type": "code",
   "execution_count": 16,
   "id": "7a60c8ed-0ea5-4159-9c26-c5099f97fbb3",
   "metadata": {
    "tags": []
   },
   "outputs": [
    {
     "data": {
      "text/plain": [
       "array([[-0.66795136, -0.72184786, -0.73125386, -0.74821079, -0.73998369],\n",
       "       [-0.72863097, -0.66795136, -0.72184786, -0.73125386, -0.74821079],\n",
       "       [-0.71244435, -0.72863097, -0.66795136, -0.72184786, -0.73125386],\n",
       "       ...,\n",
       "       [ 3.128496  ,  3.44360216,  3.09237695,  2.9917756 ,  2.9556478 ],\n",
       "       [ 3.24023258,  3.128496  ,  3.44360216,  3.09237695,  2.9917756 ],\n",
       "       [ 3.1951677 ,  3.24023258,  3.128496  ,  3.44360216,  3.09237695]])"
      ]
     },
     "execution_count": 16,
     "metadata": {},
     "output_type": "execute_result"
    }
   ],
   "source": [
    "Y_X_4"
   ]
  },
  {
   "cell_type": "code",
   "execution_count": 17,
   "id": "d18d3a3b-182f-4324-baf0-29e3822023fb",
   "metadata": {
    "tags": []
   },
   "outputs": [],
   "source": [
    "X=Y_X_4[-1,0:4].reshape(1,-1)"
   ]
  },
  {
   "cell_type": "code",
   "execution_count": 18,
   "id": "7fa90a75-399e-409c-90b0-67ed74248654",
   "metadata": {
    "tags": []
   },
   "outputs": [
    {
     "data": {
      "text/plain": [
       "array([[3.1951677 , 3.24023258, 3.128496  , 3.44360216]])"
      ]
     },
     "execution_count": 18,
     "metadata": {},
     "output_type": "execute_result"
    }
   ],
   "source": [
    "X"
   ]
  },
  {
   "cell_type": "code",
   "execution_count": 19,
   "id": "307a5cf9-1ce0-40fe-ac5a-ffab6df6710b",
   "metadata": {
    "tags": []
   },
   "outputs": [],
   "source": [
    "one_step_forecast=svr_rbf.predict(X)"
   ]
  },
  {
   "cell_type": "code",
   "execution_count": 20,
   "id": "28f663f9-811d-43e6-bee2-eb5ba622335e",
   "metadata": {
    "tags": []
   },
   "outputs": [
    {
     "data": {
      "text/plain": [
       "array([3.305477])"
      ]
     },
     "execution_count": 20,
     "metadata": {},
     "output_type": "execute_result"
    }
   ],
   "source": [
    "one_step_forecast"
   ]
  },
  {
   "cell_type": "code",
   "execution_count": 21,
   "id": "5b88b676-f073-411f-abbb-f2744b49539d",
   "metadata": {
    "tags": []
   },
   "outputs": [
    {
     "data": {
      "text/plain": [
       "array([1.85226304e+08])"
      ]
     },
     "execution_count": 21,
     "metadata": {},
     "output_type": "execute_result"
    }
   ],
   "source": [
    "(one_step_forecast*42503913.67381021)+44730595.01839465"
   ]
  },
  {
   "cell_type": "markdown",
   "id": "eac426f2-15b2-467d-9709-67b37a0dcac3",
   "metadata": {
    "tags": []
   },
   "source": [
    "##### Mustafa KARAKUZU"
   ]
  }
 ],
 "metadata": {
  "kernelspec": {
   "display_name": "Python 3 (ipykernel)",
   "language": "python",
   "name": "python3"
  },
  "language_info": {
   "codemirror_mode": {
    "name": "ipython",
    "version": 3
   },
   "file_extension": ".py",
   "mimetype": "text/x-python",
   "name": "python",
   "nbconvert_exporter": "python",
   "pygments_lexer": "ipython3",
   "version": "3.11.4"
  }
 },
 "nbformat": 4,
 "nbformat_minor": 5
}
